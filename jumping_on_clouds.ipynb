{
 "cells": [
  {
   "cell_type": "code",
   "execution_count": 3,
   "metadata": {},
   "outputs": [],
   "source": [
    "def jumpingOnClouds(c):\n",
    "    \n",
    "    jumps = 0\n",
    "    curr_idx = 0\n",
    "    last_idx = len(c) - 1\n",
    "    \n",
    "    while curr_idx < last_idx:\n",
    "        jumps += 1\n",
    "        if (curr_idx + 2 <= last_idx) and (c[curr_idx + 2] == 0):\n",
    "            curr_idx += 2\n",
    "        else:\n",
    "            curr_idx += 1\n",
    "        \n",
    "    return jumps\n",
    "            "
   ]
  },
  {
   "cell_type": "code",
   "execution_count": 4,
   "metadata": {},
   "outputs": [
    {
     "data": {
      "text/plain": [
       "3"
      ]
     },
     "execution_count": 4,
     "metadata": {},
     "output_type": "execute_result"
    }
   ],
   "source": [
    "jumpingOnClouds([0,0,0,0,1,0])"
   ]
  },
  {
   "cell_type": "code",
   "execution_count": null,
   "metadata": {},
   "outputs": [],
   "source": []
  }
 ],
 "metadata": {
  "kernelspec": {
   "display_name": "Python 3",
   "language": "python",
   "name": "python3"
  },
  "language_info": {
   "codemirror_mode": {
    "name": "ipython",
    "version": 3
   },
   "file_extension": ".py",
   "mimetype": "text/x-python",
   "name": "python",
   "nbconvert_exporter": "python",
   "pygments_lexer": "ipython3",
   "version": "3.6.5"
  }
 },
 "nbformat": 4,
 "nbformat_minor": 2
}
