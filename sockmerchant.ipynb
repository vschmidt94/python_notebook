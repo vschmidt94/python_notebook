{
 "cells": [
  {
   "cell_type": "markdown",
   "metadata": {},
   "source": [
    "# Sock Merchant - HackerRank.com Warm-up problem\n",
    "\n",
    "John works at a clothing store. He has a large pile of socks that he must pair by color for sale. Given an array of integers representing the color of each sock, determine how many pairs of socks with matching colors there are.\n",
    "\n",
    "For example, there are  socks with colors . There is one pair of color  and one of color . There are three odd socks left, one of each color. The number of pairs is .\n",
    "\n",
    "## Function Description\n",
    "\n",
    "Complete the sockMerchant function in the editor below. It must return an integer representing the number of matching pairs of socks that are available.\n",
    "\n",
    "sockMerchant has the following parameter(s):\n",
    "\n",
    "n: the number of socks in the pile\n",
    "ar: the colors of each sock\n",
    "Input Format\n",
    "\n",
    "The first line contains an integer , the number of socks represented in . \n",
    "The second line contains  space-separated integers describing the colors  of the socks in the pile.\n",
    "\n",
    "\n",
    "## Constraints\n",
    "\n",
    "n is in range (1,100)\n",
    "ar[i] is in range (1,100)\n",
    "\n",
    "## Output Format\n",
    "\n",
    "Return the total number of matching pairs of socks that John can sell."
   ]
  },
  {
   "cell_type": "code",
   "execution_count": 14,
   "metadata": {},
   "outputs": [],
   "source": [
    "def sockMerchant(n, ar):\n",
    "    \n",
    "    sock_set = set()\n",
    "    pairs = 0\n",
    "    \n",
    "    for sock in ar:\n",
    "        if sock in sock_set:\n",
    "            pairs += 1\n",
    "            sock_set.remove(sock)\n",
    "        else:\n",
    "            sock_set.add(sock)\n",
    "    \n",
    "    return pairs"
   ]
  },
  {
   "cell_type": "code",
   "execution_count": 15,
   "metadata": {},
   "outputs": [
    {
     "data": {
      "text/plain": [
       "3"
      ]
     },
     "execution_count": 15,
     "metadata": {},
     "output_type": "execute_result"
    }
   ],
   "source": [
    "sockMerchant(9, [10,20,20,10,10,30,50,10,20])"
   ]
  },
  {
   "cell_type": "code",
   "execution_count": null,
   "metadata": {},
   "outputs": [],
   "source": []
  }
 ],
 "metadata": {
  "kernelspec": {
   "display_name": "Python 3",
   "language": "python",
   "name": "python3"
  },
  "language_info": {
   "codemirror_mode": {
    "name": "ipython",
    "version": 3
   },
   "file_extension": ".py",
   "mimetype": "text/x-python",
   "name": "python",
   "nbconvert_exporter": "python",
   "pygments_lexer": "ipython3",
   "version": "3.6.5"
  }
 },
 "nbformat": 4,
 "nbformat_minor": 2
}
