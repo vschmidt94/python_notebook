{
 "cells": [
  {
   "cell_type": "markdown",
   "metadata": {},
   "source": [
    "## Python Linked List Implementation\n",
    "\n",
    "A manual implementation of linked list in Python3. \n",
    "\n",
    "Note: in real-life you would probably stick with one of the built-in collections types. Notably the `collections.deque` is implmented internally as a linked list. Python does not have a native linked list type similar to Java's `LinkedList` class."
   ]
  },
  {
   "cell_type": "code",
   "execution_count": 42,
   "metadata": {},
   "outputs": [],
   "source": [
    "class Node:\n",
    "    \n",
    "    def __init__(self, data=None, next=None):\n",
    "        '''\n",
    "        Create new linked list node\n",
    "        '''\n",
    "        self.data = data\n",
    "        self.next = next\n",
    "        \n",
    "    def __repr__(self):\n",
    "        return repr(self.data)\n",
    "    \n",
    "class SinglyLinkedList:\n",
    "    \n",
    "    def __init__(self):\n",
    "        '''\n",
    "        Create new singly list list.\n",
    "        '''\n",
    "        self.head = None\n",
    "    \n",
    "    def __repr__(self):\n",
    "        '''\n",
    "        String representation of the list.\n",
    "        '''\n",
    "        nodes = []\n",
    "        curr = self.head\n",
    "        while curr:\n",
    "            nodes.append(repr(curr))\n",
    "            curr = curr.next\n",
    "        return '[' + ', '.join(nodes) + ']'\n",
    "    \n",
    "    def add_head(self, data):\n",
    "        '''\n",
    "        Adds new node at front (head) of list\n",
    "        '''\n",
    "        if not self.head:\n",
    "            self.head = Node(data=data)\n",
    "            return\n",
    "        \n",
    "        old_head = self.head\n",
    "        self.head = Node(data=data, next=old_head)\n",
    "    \n",
    "    def add_tail(self, data):\n",
    "        '''\n",
    "        Adds a new node at the end (tail) of list\n",
    "        Note: As currently implemented this is O(n) \n",
    "              Could be improved by tracking tail pointer\n",
    "        '''\n",
    "        if not self.head:\n",
    "            self.head = Node(data=data)\n",
    "            return\n",
    "        \n",
    "        curr = self.head\n",
    "        while curr.next:\n",
    "            curr = curr.next\n",
    "        curr.next = Node(data=data)\n",
    "    \n",
    "    def add_after(self, target, data):\n",
    "        '''\n",
    "        Inserts a node after first occurance of some other\n",
    "        node containing the target data. \n",
    "        Returns the new node.\n",
    "        '''\n",
    "        new_node = None\n",
    "        target_node = self.find(target)\n",
    "        \n",
    "        if target_node:\n",
    "            new_node = Node(data=data, next=target_node.next)\n",
    "            target_node.next = new_node\n",
    "            \n",
    "        return new_node\n",
    "        \n",
    "    def find(self, data):\n",
    "        '''\n",
    "        Returns the first instance of a node containing\n",
    "        the data.\n",
    "        \n",
    "        O(n) operation\n",
    "        '''\n",
    "        curr = self.head\n",
    "        while curr and curr.data != data:\n",
    "            curr = curr.next\n",
    "            \n",
    "        # Will be None if not found\n",
    "        return curr\n",
    "    \n",
    "    def remove(self, data):\n",
    "        '''\n",
    "        Removes the first occurance of node containing\n",
    "        the data.\n",
    "        \n",
    "        O(n)\n",
    "        '''\n",
    "        curr = self.head        \n",
    "        prev = None\n",
    "        \n",
    "        # Find the first occurence to remove\n",
    "        while curr and curr.data != data:\n",
    "            prev = curr\n",
    "            curr = curr.next\n",
    "        \n",
    "        if prev is None:\n",
    "            # Not a previous node. Could be here in 2 cases:\n",
    "            # 1. Node to remove is first in list\n",
    "            # 2. Node not found in list (could be empty list)\n",
    "            self.head = curr.next\n",
    "        elif curr:\n",
    "            # Found a node and we have a previous node\n",
    "            # Remove curr node from list\n",
    "            prev.next = curr.next\n",
    "            curr.next = None\n",
    "        \n",
    "        return curr"
   ]
  },
  {
   "cell_type": "markdown",
   "metadata": {},
   "source": [
    "### Exercise the new SinglyLinkedList class"
   ]
  },
  {
   "cell_type": "code",
   "execution_count": 43,
   "metadata": {},
   "outputs": [
    {
     "data": {
      "text/plain": [
       "[]"
      ]
     },
     "execution_count": 43,
     "metadata": {},
     "output_type": "execute_result"
    }
   ],
   "source": [
    "llist = SinglyLinkedList()\n",
    "llist"
   ]
  },
  {
   "cell_type": "code",
   "execution_count": 44,
   "metadata": {},
   "outputs": [
    {
     "data": {
      "text/plain": [
       "[42]"
      ]
     },
     "execution_count": 44,
     "metadata": {},
     "output_type": "execute_result"
    }
   ],
   "source": [
    "llist.add_head(42)\n",
    "llist"
   ]
  },
  {
   "cell_type": "code",
   "execution_count": 45,
   "metadata": {},
   "outputs": [
    {
     "data": {
      "text/plain": [
       "[10, 42]"
      ]
     },
     "execution_count": 45,
     "metadata": {},
     "output_type": "execute_result"
    }
   ],
   "source": [
    "llist.add_head(10)\n",
    "llist"
   ]
  },
  {
   "cell_type": "code",
   "execution_count": 46,
   "metadata": {},
   "outputs": [
    {
     "data": {
      "text/plain": [
       "[10, 42, 999]"
      ]
     },
     "execution_count": 46,
     "metadata": {},
     "output_type": "execute_result"
    }
   ],
   "source": [
    "llist.add_tail(999)\n",
    "llist"
   ]
  },
  {
   "cell_type": "code",
   "execution_count": 47,
   "metadata": {},
   "outputs": [
    {
     "data": {
      "text/plain": [
       "[10, 42, 999, 999]"
      ]
     },
     "execution_count": 47,
     "metadata": {},
     "output_type": "execute_result"
    }
   ],
   "source": [
    "llist.add_tail(999)\n",
    "llist"
   ]
  },
  {
   "cell_type": "code",
   "execution_count": 48,
   "metadata": {},
   "outputs": [
    {
     "data": {
      "text/plain": [
       "[10, 42, 999, 111, 999]"
      ]
     },
     "execution_count": 48,
     "metadata": {},
     "output_type": "execute_result"
    }
   ],
   "source": [
    "llist.add_after(target=999, data=111)\n",
    "llist"
   ]
  },
  {
   "cell_type": "code",
   "execution_count": 49,
   "metadata": {},
   "outputs": [
    {
     "data": {
      "text/plain": [
       "[10, 42, 111, 999]"
      ]
     },
     "execution_count": 49,
     "metadata": {},
     "output_type": "execute_result"
    }
   ],
   "source": [
    "llist.remove(999)\n",
    "llist"
   ]
  },
  {
   "cell_type": "code",
   "execution_count": null,
   "metadata": {},
   "outputs": [],
   "source": []
  }
 ],
 "metadata": {
  "kernelspec": {
   "display_name": "Python 3",
   "language": "python",
   "name": "python3"
  },
  "language_info": {
   "codemirror_mode": {
    "name": "ipython",
    "version": 3
   },
   "file_extension": ".py",
   "mimetype": "text/x-python",
   "name": "python",
   "nbconvert_exporter": "python",
   "pygments_lexer": "ipython3",
   "version": "3.6.5"
  }
 },
 "nbformat": 4,
 "nbformat_minor": 2
}
