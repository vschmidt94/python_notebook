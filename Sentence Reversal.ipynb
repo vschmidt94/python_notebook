{
 "cells": [
  {
   "cell_type": "markdown",
   "metadata": {},
   "source": [
    "## Sentence reversal\n",
    "\n",
    "Given a string of words, reverse all the words.\n",
    "\n",
    "Example:\n",
    "Given \"The big red dog\"\n",
    "Return: \"dog red big The\"\n",
    "\n",
    "Note: remove all leading or trailing output."
   ]
  },
  {
   "cell_type": "code",
   "execution_count": 17,
   "metadata": {},
   "outputs": [
    {
     "data": {
      "text/plain": [
       "'dog red big The'"
      ]
     },
     "execution_count": 17,
     "metadata": {},
     "output_type": "execute_result"
    }
   ],
   "source": [
    "def reverse_sentence(s):\n",
    "    words = []\n",
    "    \n",
    "    length = len(s)\n",
    "    \n",
    "    i = 0\n",
    "    while i < length:\n",
    "        if s[i] is not ' ':\n",
    "            word_start = i\n",
    "            while i < length and s[i] is not ' ':\n",
    "                i += 1\n",
    "            \n",
    "            words.append(s[word_start:i])\n",
    "        i += 1\n",
    "\n",
    "    return \" \".join(reverse_list(words))\n",
    "\n",
    "\n",
    "def reverse_list(list_):\n",
    "    '''\n",
    "    Returns a list in reverse order.\n",
    "    '''\n",
    "    out = []\n",
    "    idx = len(list_) - 1\n",
    "    while idx >= 0:\n",
    "        out.append(list_[idx])\n",
    "        idx -= 1\n",
    "    \n",
    "    return out\n",
    "    \n",
    "    \n",
    "reverse_sentence( \"The big red dog\")       "
   ]
  },
  {
   "cell_type": "code",
   "execution_count": 18,
   "metadata": {},
   "outputs": [],
   "source": [
    "# More pythonic way, but not good as manual exercise\n",
    "\n",
    "def rev_opt1(s):\n",
    "    return \" \".join(reversed(s.split()))\n",
    "\n",
    "# or\n",
    "def rev_opt2(s):\n",
    "    return \" \".join(s.split()[::-1])   # use slicing to iterate in reverse"
   ]
  },
  {
   "cell_type": "code",
   "execution_count": 19,
   "metadata": {},
   "outputs": [
    {
     "data": {
      "text/plain": [
       "'cat red big The'"
      ]
     },
     "execution_count": 19,
     "metadata": {},
     "output_type": "execute_result"
    }
   ],
   "source": [
    "rev_opt1(\"The big red cat\")"
   ]
  },
  {
   "cell_type": "code",
   "execution_count": 20,
   "metadata": {},
   "outputs": [
    {
     "data": {
      "text/plain": [
       "'bird blue big The'"
      ]
     },
     "execution_count": 20,
     "metadata": {},
     "output_type": "execute_result"
    }
   ],
   "source": [
    "rev_opt2(\"The big blue bird\")"
   ]
  },
  {
   "cell_type": "code",
   "execution_count": 21,
   "metadata": {},
   "outputs": [
    {
     "data": {
      "text/plain": [
       "'. spaces of bunch a'"
      ]
     },
     "execution_count": 21,
     "metadata": {},
     "output_type": "execute_result"
    }
   ],
   "source": [
    "reverse_sentence(\"     a   bunch of   spaces   . \")\n"
   ]
  }
 ],
 "metadata": {
  "kernelspec": {
   "display_name": "Python 3",
   "language": "python",
   "name": "python3"
  },
  "language_info": {
   "codemirror_mode": {
    "name": "ipython",
    "version": 3
   },
   "file_extension": ".py",
   "mimetype": "text/x-python",
   "name": "python",
   "nbconvert_exporter": "python",
   "pygments_lexer": "ipython3",
   "version": "3.6.5"
  }
 },
 "nbformat": 4,
 "nbformat_minor": 2
}
