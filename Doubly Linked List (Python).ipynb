{
 "cells": [
  {
   "cell_type": "markdown",
   "metadata": {},
   "source": [
    "## Python Doubly Linked LIst\n",
    "\n",
    "As with the singly linked list example, this is a manual implementation exercise that implements a doubly linked list in Python3.  Normally, you would probably want to use one of the built in collections, most likely `collections.deque` -  which is implemented internally a doubly linked list.\n",
    "\n",
    "In this version, we'll also implement trail tracking, which will allow constant time inserts at list tail."
   ]
  },
  {
   "cell_type": "code",
   "execution_count": 69,
   "metadata": {},
   "outputs": [],
   "source": [
    "class Node:\n",
    "    \n",
    "    def __init__(self, data=None, next=None, prev=None):\n",
    "        self.data = data\n",
    "        self.next = next\n",
    "        self.prev = prev\n",
    "\n",
    "    def __repr__(self):\n",
    "        '''\n",
    "        String representation of a node\n",
    "        '''\n",
    "        return repr(self.data)\n",
    "\n",
    "class DblLinkedList:\n",
    "    \n",
    "    def __init__(self):\n",
    "        self.head = None\n",
    "        self.tail = None\n",
    "        \n",
    "    def __repr__(self):\n",
    "        ''' \n",
    "        String representation of the linked list\n",
    "        '''\n",
    "        nodes = []\n",
    "        curr = self.head\n",
    "        \n",
    "        while curr:\n",
    "            nodes.append(repr(curr.data))\n",
    "            curr = curr.next\n",
    "        \n",
    "        return '[' + ', '.join(nodes) + ']'\n",
    "    \n",
    "    def add_head(self, data):\n",
    "        '''\n",
    "        Adds node to head (front) of linked list\n",
    "        '''\n",
    "        self.head = Node(data=data, next=self.head, prev=None)\n",
    "        \n",
    "        # Add the previous link if we now have a next node\n",
    "        # Won't have a next node for the first one in the\n",
    "        # list\n",
    "        if self.head.next:\n",
    "            self.head.next.prev = self.head\n",
    "        \n",
    "        # When adding to empty list, we won't have a tail yet.\n",
    "        # For 1 node list, the head is the tail\n",
    "        if not self.tail:\n",
    "            self.tail = self.head\n",
    "        \n",
    "        return self.head\n",
    "    \n",
    "    def add_tail(self, data):\n",
    "        '''\n",
    "        Adds new node to tail (end) of linked list.\n",
    "        Note now that we are tracking the tail itself,\n",
    "        this becomes constant time O(1).\n",
    "        '''\n",
    "        self.tail = Node(data=data, next=None, prev=self.tail)\n",
    "        \n",
    "        # Link the new tail to the old tail, which is the prev node.\n",
    "        self.tail.prev.next = self.tail\n",
    "        \n",
    "        # Case where this is first node, the tail is also the head\n",
    "        if not self.head:\n",
    "            self.head = self.tail\n",
    "        \n",
    "        return self.tail\n",
    "    \n",
    "    def add_after(self, after, data):\n",
    "        '''\n",
    "        Adds new node after first occurance of target node\n",
    "        \n",
    "        If target not found, new node won't be added.\n",
    "        '''\n",
    "        target = self.find_first(after)\n",
    "        \n",
    "        target.next = Node(data=data, next=target.next, prev=target)\n",
    "        \n",
    "        # Fix the previous link on the old next if there was one.\n",
    "        # If new node is added at end of list, then this won't happen.\n",
    "        if target.next.next:\n",
    "            target.next.next.prev = target.next\n",
    "        else:\n",
    "            # In this case, we added a new node at end of list.\n",
    "            # Need to update our tail pointer\n",
    "            self.tail = target.next\n",
    "        \n",
    "        return target.next\n",
    "    \n",
    "    def find_first(self, data):\n",
    "        '''\n",
    "        Finds the first occurance of data in list.\n",
    "        '''\n",
    "        curr = self.head\n",
    "        while curr and curr.data != data:\n",
    "            curr = curr.next\n",
    "        \n",
    "        return curr\n",
    "\n",
    "    def find_last(self, data):\n",
    "        '''\n",
    "        Finds the last occurance of data in the list\n",
    "        '''\n",
    "        curr = self.tail\n",
    "        \n",
    "        while curr and curr.data != data:\n",
    "            curr = curr.prev\n",
    "        \n",
    "        return curr\n",
    "    \n",
    "    def remove_first(self, data):\n",
    "        '''\n",
    "        Removes the first occurance of data\n",
    "        '''\n",
    "        node = self.find_first(data)\n",
    "        \n",
    "        if node:\n",
    "            if node.prev:\n",
    "                node.prev.next = node.next\n",
    "            else:\n",
    "                self.head = node.next\n",
    "                \n",
    "            if node.next:\n",
    "                node.next.prev = node.prev\n",
    "            else:\n",
    "                self.tail = node.prev\n",
    "        \n",
    "        return node\n",
    "    \n",
    "        "
   ]
  },
  {
   "cell_type": "code",
   "execution_count": 70,
   "metadata": {},
   "outputs": [
    {
     "data": {
      "text/plain": [
       "[]"
      ]
     },
     "execution_count": 70,
     "metadata": {},
     "output_type": "execute_result"
    }
   ],
   "source": [
    "dbl_llist = DblLinkedList()\n",
    "dbl_llist"
   ]
  },
  {
   "cell_type": "code",
   "execution_count": 71,
   "metadata": {},
   "outputs": [
    {
     "data": {
      "text/plain": [
       "[100]"
      ]
     },
     "execution_count": 71,
     "metadata": {},
     "output_type": "execute_result"
    }
   ],
   "source": [
    "dbl_llist.add_head(100)\n",
    "dbl_llist"
   ]
  },
  {
   "cell_type": "code",
   "execution_count": 72,
   "metadata": {},
   "outputs": [
    {
     "data": {
      "text/plain": [
       "[50, 100]"
      ]
     },
     "execution_count": 72,
     "metadata": {},
     "output_type": "execute_result"
    }
   ],
   "source": [
    "dbl_llist.add_head(50)\n",
    "dbl_llist"
   ]
  },
  {
   "cell_type": "code",
   "execution_count": 73,
   "metadata": {},
   "outputs": [
    {
     "data": {
      "text/plain": [
       "[50, 100, 200]"
      ]
     },
     "execution_count": 73,
     "metadata": {},
     "output_type": "execute_result"
    }
   ],
   "source": [
    "dbl_llist.add_tail(200)\n",
    "dbl_llist"
   ]
  },
  {
   "cell_type": "code",
   "execution_count": 74,
   "metadata": {},
   "outputs": [
    {
     "data": {
      "text/plain": [
       "[50, 100, 150, 200]"
      ]
     },
     "execution_count": 74,
     "metadata": {},
     "output_type": "execute_result"
    }
   ],
   "source": [
    "dbl_llist.add_after(after=100, data=150)\n",
    "dbl_llist"
   ]
  },
  {
   "cell_type": "code",
   "execution_count": 75,
   "metadata": {},
   "outputs": [
    {
     "data": {
      "text/plain": [
       "[50, 100, 150, 200, 500]"
      ]
     },
     "execution_count": 75,
     "metadata": {},
     "output_type": "execute_result"
    }
   ],
   "source": [
    "dbl_llist.add_after(after=200, data=500)\n",
    "dbl_llist"
   ]
  },
  {
   "cell_type": "code",
   "execution_count": 76,
   "metadata": {},
   "outputs": [
    {
     "data": {
      "text/plain": [
       "50"
      ]
     },
     "execution_count": 76,
     "metadata": {},
     "output_type": "execute_result"
    }
   ],
   "source": [
    "dbl_llist.head"
   ]
  },
  {
   "cell_type": "code",
   "execution_count": 77,
   "metadata": {},
   "outputs": [
    {
     "data": {
      "text/plain": [
       "500"
      ]
     },
     "execution_count": 77,
     "metadata": {},
     "output_type": "execute_result"
    }
   ],
   "source": [
    "dbl_llist.tail"
   ]
  },
  {
   "cell_type": "code",
   "execution_count": 78,
   "metadata": {},
   "outputs": [
    {
     "data": {
      "text/plain": [
       "150"
      ]
     },
     "execution_count": 78,
     "metadata": {},
     "output_type": "execute_result"
    }
   ],
   "source": [
    "dbl_llist.tail.prev.prev"
   ]
  },
  {
   "cell_type": "code",
   "execution_count": 79,
   "metadata": {},
   "outputs": [
    {
     "data": {
      "text/plain": [
       "[50, 100, 150, 200]"
      ]
     },
     "execution_count": 79,
     "metadata": {},
     "output_type": "execute_result"
    }
   ],
   "source": [
    "dbl_llist.remove_first(500)\n",
    "dbl_llist"
   ]
  },
  {
   "cell_type": "code",
   "execution_count": 80,
   "metadata": {},
   "outputs": [
    {
     "data": {
      "text/plain": [
       "[100, 150, 200]"
      ]
     },
     "execution_count": 80,
     "metadata": {},
     "output_type": "execute_result"
    }
   ],
   "source": [
    "dbl_llist.remove_first(50)\n",
    "dbl_llist"
   ]
  },
  {
   "cell_type": "code",
   "execution_count": null,
   "metadata": {},
   "outputs": [],
   "source": []
  }
 ],
 "metadata": {
  "kernelspec": {
   "display_name": "Python 3",
   "language": "python",
   "name": "python3"
  },
  "language_info": {
   "codemirror_mode": {
    "name": "ipython",
    "version": 3
   },
   "file_extension": ".py",
   "mimetype": "text/x-python",
   "name": "python",
   "nbconvert_exporter": "python",
   "pygments_lexer": "ipython3",
   "version": "3.6.5"
  }
 },
 "nbformat": 4,
 "nbformat_minor": 2
}
