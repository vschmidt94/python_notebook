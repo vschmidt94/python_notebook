{
 "cells": [
  {
   "cell_type": "markdown",
   "metadata": {},
   "source": [
    "# Dynamic arrays\n",
    "\n",
    "Python's build in array types (list, tuples, and strings) are implemented as dynamic arrays internally. In this exercise we will write our own implmentation of a dynamic array\n"
   ]
  },
  {
   "cell_type": "code",
   "execution_count": 56,
   "metadata": {},
   "outputs": [],
   "source": [
    "import ctypes\n",
    "\n",
    "class DynArray:  \n",
    "    '''\n",
    "    Python implentation of a Dynamic Array data structure\n",
    "    '''\n",
    "    \n",
    "    def __init__(self):\n",
    "        self.count = 0\n",
    "        self.capacity = 1\n",
    "        self.A = self.make_array(self.capacity)\n",
    "    \n",
    "    def __len__(self):\n",
    "        return self.count\n",
    "    \n",
    "    def __getitem__(self, idx):\n",
    "        if idx < 0 or idx > count:\n",
    "            return IndexError('idx out of bounds.')\n",
    "        return self.A[idx]\n",
    "     \n",
    "    def _resize(self, new_cap):\n",
    "        new_arr = self.make_array(new_cap)\n",
    "        for i in range(self.count):\n",
    "            new_arr[i] = self.A[i]\n",
    "        \n",
    "        self.A = new_arr\n",
    "        self.capacity = new_cap\n",
    "        # self.count is still valid, no need to update.\n",
    "        # Only the capacity increased here, no new elements were added.\n",
    "        \n",
    "    def append(self, val):\n",
    "        if self.count == self.capacity:\n",
    "            # Array is full, it needs to grow.\n",
    "            # We will double it, but note there are other conventions.\n",
    "            self._resize(2 * self.capacity)\n",
    "        \n",
    "        self.A[self.count] = val\n",
    "        self.count += 1\n",
    "\n",
    "    def contains(self, val):\n",
    "        for i in range(self.count):\n",
    "            if(self.A[i] == val):\n",
    "                return True\n",
    "        return False\n",
    "    \n",
    "    def pop(self, val):\n",
    "        for i in range(self.count):\n",
    "            if(self.A[i] == val):\n",
    "                for j in range(i+1, self.count):\n",
    "                    self.A[i] = self.A[j]\n",
    "                    i += 1\n",
    "                self.count -= 1\n",
    "                return val\n",
    "        return None\n",
    "    \n",
    "    def make_array(self, cap):\n",
    "        # A little ctypes voodoo to create an underlying \n",
    "        # array of certain size.\n",
    "        # cap * ctypes.py_object will return an underlying C type sized for array[cap]\n",
    "        # The trailing () instantiates the type, so we have real object to use.\n",
    "        return (cap * ctypes.py_object)()"
   ]
  },
  {
   "cell_type": "code",
   "execution_count": 57,
   "metadata": {},
   "outputs": [
    {
     "name": "stdout",
     "output_type": "stream",
     "text": [
      "myArray object: <__main__.DynArray object at 0x106ffba90>\n",
      "myArray length: 0\n"
     ]
    }
   ],
   "source": [
    "# Instantiate an instance of DynArray\n",
    "myArray = DynArray()\n",
    "print( \"myArray object: \" + str(myArray))\n",
    "print( \"myArray length: \" + str(len(myArray)))"
   ]
  },
  {
   "cell_type": "code",
   "execution_count": 58,
   "metadata": {},
   "outputs": [
    {
     "name": "stdout",
     "output_type": "stream",
     "text": [
      "Adding val:  0, Length:    1, Count:    1, Capacity:    1\n",
      "Adding val:  1, Length:    2, Count:    2, Capacity:    2\n",
      "Adding val:  2, Length:    3, Count:    3, Capacity:    4\n",
      "Adding val:  3, Length:    4, Count:    4, Capacity:    4\n",
      "Adding val:  4, Length:    5, Count:    5, Capacity:    8\n",
      "Adding val:  5, Length:    6, Count:    6, Capacity:    8\n",
      "Adding val:  6, Length:    7, Count:    7, Capacity:    8\n",
      "Adding val:  7, Length:    8, Count:    8, Capacity:    8\n",
      "Adding val:  8, Length:    9, Count:    9, Capacity:   16\n",
      "Adding val:  9, Length:   10, Count:   10, Capacity:   16\n",
      "Adding val: 10, Length:   11, Count:   11, Capacity:   16\n",
      "Adding val: 11, Length:   12, Count:   12, Capacity:   16\n",
      "Adding val: 12, Length:   13, Count:   13, Capacity:   16\n",
      "Adding val: 13, Length:   14, Count:   14, Capacity:   16\n",
      "Adding val: 14, Length:   15, Count:   15, Capacity:   16\n",
      "Adding val: 15, Length:   16, Count:   16, Capacity:   16\n",
      "Adding val: 16, Length:   17, Count:   17, Capacity:   32\n",
      "Adding val: 17, Length:   18, Count:   18, Capacity:   32\n",
      "Adding val: 18, Length:   19, Count:   19, Capacity:   32\n",
      "Adding val: 19, Length:   20, Count:   20, Capacity:   32\n",
      "Adding val: 20, Length:   21, Count:   21, Capacity:   32\n",
      "Adding val: 21, Length:   22, Count:   22, Capacity:   32\n",
      "Adding val: 22, Length:   23, Count:   23, Capacity:   32\n",
      "Adding val: 23, Length:   24, Count:   24, Capacity:   32\n",
      "Adding val: 24, Length:   25, Count:   25, Capacity:   32\n",
      "Adding val: 25, Length:   26, Count:   26, Capacity:   32\n",
      "Adding val: 26, Length:   27, Count:   27, Capacity:   32\n",
      "Adding val: 27, Length:   28, Count:   28, Capacity:   32\n",
      "Adding val: 28, Length:   29, Count:   29, Capacity:   32\n",
      "Adding val: 29, Length:   30, Count:   30, Capacity:   32\n",
      "Adding val: 30, Length:   31, Count:   31, Capacity:   32\n",
      "Adding val: 31, Length:   32, Count:   32, Capacity:   32\n",
      "Adding val: 32, Length:   33, Count:   33, Capacity:   64\n",
      "Adding val: 33, Length:   34, Count:   34, Capacity:   64\n",
      "Adding val: 34, Length:   35, Count:   35, Capacity:   64\n",
      "Adding val: 35, Length:   36, Count:   36, Capacity:   64\n",
      "Adding val: 36, Length:   37, Count:   37, Capacity:   64\n",
      "Adding val: 37, Length:   38, Count:   38, Capacity:   64\n",
      "Adding val: 38, Length:   39, Count:   39, Capacity:   64\n",
      "Adding val: 39, Length:   40, Count:   40, Capacity:   64\n",
      "Adding val: 40, Length:   41, Count:   41, Capacity:   64\n",
      "Adding val: 41, Length:   42, Count:   42, Capacity:   64\n",
      "Adding val: 42, Length:   43, Count:   43, Capacity:   64\n",
      "Adding val: 43, Length:   44, Count:   44, Capacity:   64\n",
      "Adding val: 44, Length:   45, Count:   45, Capacity:   64\n",
      "Adding val: 45, Length:   46, Count:   46, Capacity:   64\n",
      "Adding val: 46, Length:   47, Count:   47, Capacity:   64\n",
      "Adding val: 47, Length:   48, Count:   48, Capacity:   64\n",
      "Adding val: 48, Length:   49, Count:   49, Capacity:   64\n",
      "Adding val: 49, Length:   50, Count:   50, Capacity:   64\n",
      "Adding val: 50, Length:   51, Count:   51, Capacity:   64\n",
      "Adding val: 51, Length:   52, Count:   52, Capacity:   64\n",
      "Adding val: 52, Length:   53, Count:   53, Capacity:   64\n",
      "Adding val: 53, Length:   54, Count:   54, Capacity:   64\n",
      "Adding val: 54, Length:   55, Count:   55, Capacity:   64\n",
      "Adding val: 55, Length:   56, Count:   56, Capacity:   64\n",
      "Adding val: 56, Length:   57, Count:   57, Capacity:   64\n",
      "Adding val: 57, Length:   58, Count:   58, Capacity:   64\n",
      "Adding val: 58, Length:   59, Count:   59, Capacity:   64\n",
      "Adding val: 59, Length:   60, Count:   60, Capacity:   64\n",
      "Adding val: 60, Length:   61, Count:   61, Capacity:   64\n",
      "Adding val: 61, Length:   62, Count:   62, Capacity:   64\n",
      "Adding val: 62, Length:   63, Count:   63, Capacity:   64\n",
      "Adding val: 63, Length:   64, Count:   64, Capacity:   64\n",
      "Adding val: 64, Length:   65, Count:   65, Capacity:  128\n",
      "Adding val: 65, Length:   66, Count:   66, Capacity:  128\n",
      "Adding val: 66, Length:   67, Count:   67, Capacity:  128\n",
      "Adding val: 67, Length:   68, Count:   68, Capacity:  128\n",
      "Adding val: 68, Length:   69, Count:   69, Capacity:  128\n",
      "Adding val: 69, Length:   70, Count:   70, Capacity:  128\n",
      "Adding val: 70, Length:   71, Count:   71, Capacity:  128\n",
      "Adding val: 71, Length:   72, Count:   72, Capacity:  128\n",
      "Adding val: 72, Length:   73, Count:   73, Capacity:  128\n",
      "Adding val: 73, Length:   74, Count:   74, Capacity:  128\n",
      "Adding val: 74, Length:   75, Count:   75, Capacity:  128\n",
      "Adding val: 75, Length:   76, Count:   76, Capacity:  128\n",
      "Adding val: 76, Length:   77, Count:   77, Capacity:  128\n",
      "Adding val: 77, Length:   78, Count:   78, Capacity:  128\n",
      "Adding val: 78, Length:   79, Count:   79, Capacity:  128\n",
      "Adding val: 79, Length:   80, Count:   80, Capacity:  128\n",
      "Adding val: 80, Length:   81, Count:   81, Capacity:  128\n",
      "Adding val: 81, Length:   82, Count:   82, Capacity:  128\n",
      "Adding val: 82, Length:   83, Count:   83, Capacity:  128\n",
      "Adding val: 83, Length:   84, Count:   84, Capacity:  128\n",
      "Adding val: 84, Length:   85, Count:   85, Capacity:  128\n",
      "Adding val: 85, Length:   86, Count:   86, Capacity:  128\n",
      "Adding val: 86, Length:   87, Count:   87, Capacity:  128\n",
      "Adding val: 87, Length:   88, Count:   88, Capacity:  128\n",
      "Adding val: 88, Length:   89, Count:   89, Capacity:  128\n",
      "Adding val: 89, Length:   90, Count:   90, Capacity:  128\n",
      "Adding val: 90, Length:   91, Count:   91, Capacity:  128\n",
      "Adding val: 91, Length:   92, Count:   92, Capacity:  128\n",
      "Adding val: 92, Length:   93, Count:   93, Capacity:  128\n",
      "Adding val: 93, Length:   94, Count:   94, Capacity:  128\n",
      "Adding val: 94, Length:   95, Count:   95, Capacity:  128\n",
      "Adding val: 95, Length:   96, Count:   96, Capacity:  128\n",
      "Adding val: 96, Length:   97, Count:   97, Capacity:  128\n",
      "Adding val: 97, Length:   98, Count:   98, Capacity:  128\n",
      "Adding val: 98, Length:   99, Count:   99, Capacity:  128\n",
      "Adding val: 99, Length:  100, Count:  100, Capacity:  128\n"
     ]
    }
   ],
   "source": [
    "# Add 100 elements and watch length / count / capacity / size\n",
    "for val in range(100):\n",
    "    myArray.append(val)\n",
    "    a_len = len(myArray)\n",
    "    a_cap = myArray.capacity\n",
    "    a_cnt = myArray.count\n",
    "    print( \"Adding val: {0:2d}, Length: {1:4d}, Count: {2:4d}, Capacity: {3:4d}\"\n",
    "          .format(val, a_len, a_cnt, a_cap))"
   ]
  },
  {
   "cell_type": "code",
   "execution_count": 59,
   "metadata": {},
   "outputs": [
    {
     "data": {
      "text/plain": [
       "True"
      ]
     },
     "execution_count": 59,
     "metadata": {},
     "output_type": "execute_result"
    }
   ],
   "source": [
    "myArray.contains(42)"
   ]
  },
  {
   "cell_type": "code",
   "execution_count": 60,
   "metadata": {},
   "outputs": [
    {
     "data": {
      "text/plain": [
       "False"
      ]
     },
     "execution_count": 60,
     "metadata": {},
     "output_type": "execute_result"
    }
   ],
   "source": [
    "myArray.contains(-1)"
   ]
  },
  {
   "cell_type": "code",
   "execution_count": 61,
   "metadata": {},
   "outputs": [
    {
     "data": {
      "text/plain": [
       "42"
      ]
     },
     "execution_count": 61,
     "metadata": {},
     "output_type": "execute_result"
    }
   ],
   "source": [
    "# Test the pop() function to remove a specific element\n",
    "myArray.pop(42)"
   ]
  },
  {
   "cell_type": "code",
   "execution_count": 62,
   "metadata": {},
   "outputs": [
    {
     "data": {
      "text/plain": [
       "False"
      ]
     },
     "execution_count": 62,
     "metadata": {},
     "output_type": "execute_result"
    }
   ],
   "source": [
    "myArray.contains(42)"
   ]
  },
  {
   "cell_type": "code",
   "execution_count": 63,
   "metadata": {},
   "outputs": [
    {
     "data": {
      "text/plain": [
       "99"
      ]
     },
     "execution_count": 63,
     "metadata": {},
     "output_type": "execute_result"
    }
   ],
   "source": [
    "myArray.count"
   ]
  },
  {
   "cell_type": "code",
   "execution_count": null,
   "metadata": {},
   "outputs": [],
   "source": []
  }
 ],
 "metadata": {
  "kernelspec": {
   "display_name": "Python 3",
   "language": "python",
   "name": "python3"
  },
  "language_info": {
   "codemirror_mode": {
    "name": "ipython",
    "version": 3
   },
   "file_extension": ".py",
   "mimetype": "text/x-python",
   "name": "python",
   "nbconvert_exporter": "python",
   "pygments_lexer": "ipython3",
   "version": "3.6.8"
  }
 },
 "nbformat": 4,
 "nbformat_minor": 2
}
