{
 "cells": [
  {
   "cell_type": "code",
   "execution_count": 1,
   "metadata": {
    "pycharm": {
     "is_executing": false
    }
   },
   "outputs": [
    {
     "name": "stdout",
     "output_type": "stream",
     "text": [
      "Airway half width in meters: 7408.0 meter\n"
     ]
    },
    {
     "data": {
      "text/plain": [
       "'Ex1: delta north, east, down = 331730.23, 332997.87, 17404.27'"
      ]
     },
     "execution_count": 1,
     "metadata": {},
     "output_type": "execute_result"
    }
   ],
   "source": [
    "import numpy as np\n",
    "import nvector as nv\n",
    "import pint\n",
    "\n",
    "ureg = pint.UnitRegistry()\n",
    "awy_half_width =  4 * ureg.nautical_mile\n",
    "awy_half_width = awy_half_width.to(ureg.meter)\n",
    "print( \"Airway half width in meters: \" + str(awy_half_width))\n",
    "\n",
    "\n",
    "wgs84 = nv.FrameE(name='WGS84')\n",
    "pointA = wgs84.GeoPoint(latitude=1, longitude=2, z=3, degrees=True)\n",
    "pointB = wgs84.GeoPoint(latitude=4, longitude=5, z=6, degrees=True)\n",
    "p_AB_N = pointA.delta_to(pointB)\n",
    "x, y, z = p_AB_N.pvector.ravel()\n",
    "valtxt = '{0:8.2f}, {1:8.2f}, {2:8.2f}'.format(x, y, z)\n",
    "'Ex1: delta north, east, down = {}'.format(valtxt)"
   ]
  },
  {
   "cell_type": "code",
   "execution_count": 2,
   "metadata": {
    "pycharm": {
     "is_executing": false
    }
   },
   "outputs": [
    {
     "name": "stdout",
     "output_type": "stream",
     "text": [
      "[1104.70434778]\n"
     ]
    }
   ],
   "source": [
    "# The 2 points defining a segment on T306 airway\n",
    "pnt_BLH = wgs84.GeoPoint(latitude=33.59606, longitude=-114.7612, degrees=True)\n",
    "pnt_BXK = wgs84.GeoPoint(latitude=33.45346, longitude=-112.8246, degrees=True)\n",
    "\n",
    "# VICKO Waypoint is coincident with airway segment, but\n",
    "# not part of airway\n",
    "# BLH------VICKO------BXK\n",
    "pnt_VICKO = wgs84.GeoPoint(latitude=33.52972, longitude=-113.945, degrees=True)\n",
    "\n",
    "path_T306 = nv.GeoPath(pnt_BLH, pnt_BXK)\n",
    "\n",
    "dist1_T306_VICKO = path_T306.cross_track_distance(pnt_VICKO, method='greatcircle').ravel()\n",
    "print(dist1_T306_VICKO)"
   ]
  },
  {
   "cell_type": "code",
   "execution_count": 3,
   "metadata": {
    "pycharm": {
     "name": "#%%\n"
    }
   },
   "outputs": [
    {
     "data": {
      "text/plain": [
       "['__class__',\n",
       " '__delattr__',\n",
       " '__dict__',\n",
       " '__dir__',\n",
       " '__doc__',\n",
       " '__eq__',\n",
       " '__format__',\n",
       " '__ge__',\n",
       " '__getattribute__',\n",
       " '__gt__',\n",
       " '__hash__',\n",
       " '__init__',\n",
       " '__init_subclass__',\n",
       " '__le__',\n",
       " '__lt__',\n",
       " '__module__',\n",
       " '__ne__',\n",
       " '__new__',\n",
       " '__reduce__',\n",
       " '__reduce_ex__',\n",
       " '__repr__',\n",
       " '__setattr__',\n",
       " '__sizeof__',\n",
       " '__str__',\n",
       " '__subclasshook__',\n",
       " '__weakref__',\n",
       " 'delta_to',\n",
       " 'displace',\n",
       " 'distance_and_azimuth',\n",
       " 'frame',\n",
       " 'latitude',\n",
       " 'latitude_deg',\n",
       " 'latlon',\n",
       " 'latlon_deg',\n",
       " 'longitude',\n",
       " 'longitude_deg',\n",
       " 'to_ecef_vector',\n",
       " 'to_geo_point',\n",
       " 'to_nvector',\n",
       " 'z']"
      ]
     },
     "execution_count": 3,
     "metadata": {},
     "output_type": "execute_result"
    }
   ],
   "source": [
    "closest_pnt_on_T306 = path_T306.closest_point_on_great_circle(pnt_VICKO)\n",
    "dir(closest_pnt_on_T306)"
   ]
  },
  {
   "cell_type": "code",
   "execution_count": 5,
   "metadata": {},
   "outputs": [
    {
     "data": {
      "text/plain": [
       "(array([33.53961657]), array([-113.94396879]), 0)"
      ]
     },
     "execution_count": 5,
     "metadata": {},
     "output_type": "execute_result"
    }
   ],
   "source": [
    "closest_pnt_on_T306.latlon_deg"
   ]
  },
  {
   "cell_type": "code",
   "execution_count": 4,
   "metadata": {},
   "outputs": [
    {
     "ename": "ModuleNotFoundError",
     "evalue": "No module named 'mpl_toolkits.basemap'",
     "output_type": "error",
     "traceback": [
      "\u001b[0;31m---------------------------------------------------------------------------\u001b[0m",
      "\u001b[0;31mModuleNotFoundError\u001b[0m                       Traceback (most recent call last)",
      "\u001b[0;32m<ipython-input-4-bfb32df051ee>\u001b[0m in \u001b[0;36m<module>\u001b[0;34m()\u001b[0m\n\u001b[0;32m----> 1\u001b[0;31m \u001b[0;32mfrom\u001b[0m \u001b[0mmpl_toolkits\u001b[0m\u001b[0;34m.\u001b[0m\u001b[0mbasemap\u001b[0m \u001b[0;32mimport\u001b[0m \u001b[0mBasemap\u001b[0m\u001b[0;34m\u001b[0m\u001b[0;34m\u001b[0m\u001b[0m\n\u001b[0m\u001b[1;32m      2\u001b[0m \u001b[0;32mimport\u001b[0m \u001b[0mmatplotlib\u001b[0m \u001b[0;32mas\u001b[0m \u001b[0mplt\u001b[0m\u001b[0;34m\u001b[0m\u001b[0;34m\u001b[0m\u001b[0m\n\u001b[1;32m      3\u001b[0m \u001b[0;34m\u001b[0m\u001b[0m\n\u001b[1;32m      4\u001b[0m \u001b[0mmap\u001b[0m \u001b[0;34m=\u001b[0m \u001b[0mBasemap\u001b[0m\u001b[0;34m(\u001b[0m\u001b[0mprojection\u001b[0m\u001b[0;34m=\u001b[0m\u001b[0;34m'ortho'\u001b[0m\u001b[0;34m,\u001b[0m \u001b[0mlat_0\u001b[0m\u001b[0;34m=\u001b[0m\u001b[0;36m45\u001b[0m\u001b[0;34m,\u001b[0m \u001b[0mlon_0\u001b[0m\u001b[0;34m=\u001b[0m\u001b[0;34m-\u001b[0m\u001b[0;36m100\u001b[0m\u001b[0;34m,\u001b[0m \u001b[0mresolution\u001b[0m\u001b[0;34m=\u001b[0m\u001b[0;34m'l'\u001b[0m\u001b[0;34m)\u001b[0m\u001b[0;34m\u001b[0m\u001b[0;34m\u001b[0m\u001b[0m\n\u001b[1;32m      5\u001b[0m \u001b[0mmap\u001b[0m\u001b[0;34m.\u001b[0m\u001b[0mdrawcoastlines\u001b[0m\u001b[0;34m(\u001b[0m\u001b[0mlinewidth\u001b[0m\u001b[0;34m=\u001b[0m\u001b[0;36m0.25\u001b[0m\u001b[0;34m)\u001b[0m\u001b[0;34m\u001b[0m\u001b[0;34m\u001b[0m\u001b[0m\n",
      "\u001b[0;31mModuleNotFoundError\u001b[0m: No module named 'mpl_toolkits.basemap'"
     ]
    }
   ],
   "source": [
    "from mpl_toolkits.basemap import Basemap\n",
    "import matplotlib as plt\n",
    "\n",
    "map = Basemap(projection='ortho', lat_0=45, lon_0=-100, resolution='l')\n",
    "map.drawcoastlines(linewidth=0.25)\n",
    "plt.show()"
   ]
  },
  {
   "cell_type": "code",
   "execution_count": null,
   "metadata": {},
   "outputs": [],
   "source": []
  }
 ],
 "metadata": {
  "kernelspec": {
   "display_name": "Python 3",
   "language": "python",
   "name": "python3"
  },
  "language_info": {
   "codemirror_mode": {
    "name": "ipython",
    "version": 3
   },
   "file_extension": ".py",
   "mimetype": "text/x-python",
   "name": "python",
   "nbconvert_exporter": "python",
   "pygments_lexer": "ipython3",
   "version": "3.6.8"
  },
  "pycharm": {
   "stem_cell": {
    "cell_type": "raw",
    "metadata": {
     "collapsed": false
    },
    "source": []
   }
  }
 },
 "nbformat": 4,
 "nbformat_minor": 2
}
