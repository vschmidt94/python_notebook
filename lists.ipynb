{
 "cells": [
  {
   "cell_type": "markdown",
   "metadata": {},
   "source": [
    "# Lists\n",
    "\n",
    "One of Python's basic container types\n",
    "\n",
    "Lists are:\n",
    "* Ordered\n",
    "* Mutable\n",
    "* Mixed\n",
    "* Can have duplicates\n",
    "\n",
    "Syntax is square brackets, or the `list()` function"
   ]
  },
  {
   "cell_type": "code",
   "execution_count": 38,
   "metadata": {},
   "outputs": [
    {
     "name": "stdout",
     "output_type": "stream",
     "text": [
      "['dog', 'cat', 8, 'cat']\n",
      "[]\n"
     ]
    }
   ],
   "source": [
    "list_1 = ['dog', 'cat', 8, 'cat']\n",
    "print(list_1)\n",
    "\n",
    "list_2 = list()\n",
    "print(list_2)"
   ]
  },
  {
   "cell_type": "markdown",
   "metadata": {},
   "source": [
    "The `list()` function can take a iterable as single parameter and return a copy of that iterable as a list"
   ]
  },
  {
   "cell_type": "code",
   "execution_count": 31,
   "metadata": {},
   "outputs": [
    {
     "data": {
      "text/plain": [
       "['Jack', 'Queen', 'King', 'Ace']"
      ]
     },
     "execution_count": 31,
     "metadata": {},
     "output_type": "execute_result"
    }
   ],
   "source": [
    "suits = 'Jack Queen King Ace'\n",
    "suit_list = list(suits.split())\n",
    "suit_list"
   ]
  },
  {
   "cell_type": "markdown",
   "metadata": {},
   "source": [
    "### Appending to list\n",
    "\n",
    "* Adds to end of list"
   ]
  },
  {
   "cell_type": "code",
   "execution_count": 32,
   "metadata": {},
   "outputs": [
    {
     "data": {
      "text/plain": [
       "['Jack', 'Queen', 'King', 'Ace', 'Joker']"
      ]
     },
     "execution_count": 32,
     "metadata": {},
     "output_type": "execute_result"
    }
   ],
   "source": [
    "suit_list.append('Joker')\n",
    "suit_list"
   ]
  },
  {
   "cell_type": "markdown",
   "metadata": {},
   "source": [
    "### Inserting in list\n",
    "\n",
    "* if always inserting at head `deque` is a better type"
   ]
  },
  {
   "cell_type": "code",
   "execution_count": 33,
   "metadata": {},
   "outputs": [
    {
     "data": {
      "text/plain": [
       "['Jack', 'Queen', 'King', 'Batman', 'Ace', 'Joker']"
      ]
     },
     "execution_count": 33,
     "metadata": {},
     "output_type": "execute_result"
    }
   ],
   "source": [
    "suit_list.insert(3, 'Batman')\n",
    "suit_list"
   ]
  },
  {
   "cell_type": "markdown",
   "metadata": {},
   "source": [
    "### Lists are iterable"
   ]
  },
  {
   "cell_type": "code",
   "execution_count": 34,
   "metadata": {},
   "outputs": [
    {
     "name": "stdout",
     "output_type": "stream",
     "text": [
      "Jack\n",
      "Queen\n",
      "King\n",
      "Batman\n",
      "Ace\n",
      "Joker\n"
     ]
    }
   ],
   "source": [
    "for suit in suit_list:\n",
    "    print(suit)"
   ]
  },
  {
   "cell_type": "markdown",
   "metadata": {},
   "source": [
    "### Popping last element"
   ]
  },
  {
   "cell_type": "code",
   "execution_count": 35,
   "metadata": {},
   "outputs": [
    {
     "name": "stdout",
     "output_type": "stream",
     "text": [
      "Popped element: Joker\n",
      "suit_list: ['Jack', 'Queen', 'King', 'Batman', 'Ace']\n"
     ]
    }
   ],
   "source": [
    "popped = suit_list.pop()\n",
    "print('Popped element: ' + popped)\n",
    "print('suit_list: ' + str(suit_list))"
   ]
  },
  {
   "cell_type": "markdown",
   "metadata": {},
   "source": [
    "### Accessible by index\n",
    "* Allows abilty to use slicing"
   ]
  },
  {
   "cell_type": "code",
   "execution_count": 36,
   "metadata": {},
   "outputs": [
    {
     "name": "stdout",
     "output_type": "stream",
     "text": [
      "King\n",
      "['Ace', 'Batman', 'King']\n"
     ]
    }
   ],
   "source": [
    "print(suit_list[2])\n",
    "print(suit_list[-1:-4:-1])"
   ]
  },
  {
   "cell_type": "markdown",
   "metadata": {},
   "source": [
    "### Membership testing\n",
    "* `in` keyword performs testing\n",
    "* `index()` function returns location of item"
   ]
  },
  {
   "cell_type": "code",
   "execution_count": 37,
   "metadata": {},
   "outputs": [
    {
     "name": "stdout",
     "output_type": "stream",
     "text": [
      "False\n",
      "index of `Ace`: 4\n"
     ]
    }
   ],
   "source": [
    "print('`dog` is in list?' + 'dog' in suit_list)\n",
    "print('index of `Ace`: ' + str(suit_list.index('Ace')))"
   ]
  }
 ],
 "metadata": {
  "kernelspec": {
   "display_name": "Python 3",
   "language": "python",
   "name": "python3"
  },
  "language_info": {
   "codemirror_mode": {
    "name": "ipython",
    "version": 3
   },
   "file_extension": ".py",
   "mimetype": "text/x-python",
   "name": "python",
   "nbconvert_exporter": "python",
   "pygments_lexer": "ipython3",
   "version": "3.6.5"
  }
 },
 "nbformat": 4,
 "nbformat_minor": 2
}
