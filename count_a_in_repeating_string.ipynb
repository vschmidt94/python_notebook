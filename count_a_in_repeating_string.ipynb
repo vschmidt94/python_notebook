{
 "cells": [
  {
   "cell_type": "markdown",
   "metadata": {},
   "source": [
    "# Find number of occurances of letter 'a'\n",
    "\n",
    "Lilah has a string, s, of lowercase English letters that she repeated infinitely many times.\n",
    "\n",
    "Given an integer, n, find and print the number of letter a's in the first n letters of Lilah's infinite string.\n",
    "\n",
    "For example, if the string  and , the substring we consider is , the first  characters of her infinite string. There are  occurrences of a in the substring.\n",
    "\n",
    "Function Description\n",
    "\n",
    "Complete the repeatedString function in the editor below. It should return an integer representing the number of occurrences of a in the prefix of length  in the infinitely repeating string.\n",
    "\n",
    "repeatedString has the following parameter(s):\n",
    "\n",
    "s: a string to repeat\n",
    "n: the number of characters to consider\n",
    "Input Format\n",
    "\n",
    "The first line contains a single string, . \n",
    "The second line contains an integer, .\n",
    "\n",
    "Constraints\n",
    "\n",
    "For  of the test cases, ."
   ]
  },
  {
   "cell_type": "code",
   "execution_count": 8,
   "metadata": {},
   "outputs": [
    {
     "name": "stdout",
     "output_type": "stream",
     "text": [
      "('aba', 10) = 7\n",
      "('a', 1000000) = 1000000\n"
     ]
    }
   ],
   "source": [
    "#!/bin/python3\n",
    "\n",
    "import math\n",
    "import os\n",
    "import random\n",
    "import re\n",
    "import sys\n",
    "\n",
    "def a_count(s, n):\n",
    "    '''\n",
    "    Computes the number of a's in the first n letters of string s\n",
    "    Assumes n <= len(s)\n",
    "    '''\n",
    "    a_cnt = 0\n",
    "    for i in range(0,n):\n",
    "        if s[i] == 'a':\n",
    "            a_cnt += 1\n",
    "    \n",
    "    return a_cnt\n",
    "\n",
    "# Complete the repeatedString function below.\n",
    "def repeatedString(s, n):\n",
    "            \n",
    "    # how many full string occurances\n",
    "    len_s = len(s)\n",
    "    a_cnt = ( n // len_s ) * a_count(s, len_s)\n",
    "    a_cnt += a_count(s, n % len_s)\n",
    "    \n",
    "    return a_cnt\n",
    "\n",
    "print( \"('aba', 10) = \" + str(repeatedString('aba', 10)))\n",
    "print( \"('a', 1000000) = \" + str(repeatedString('a', 1000000)))\n",
    "        \n",
    "    "
   ]
  },
  {
   "cell_type": "code",
   "execution_count": null,
   "metadata": {},
   "outputs": [],
   "source": []
  }
 ],
 "metadata": {
  "kernelspec": {
   "display_name": "Python 3",
   "language": "python",
   "name": "python3"
  },
  "language_info": {
   "codemirror_mode": {
    "name": "ipython",
    "version": 3
   },
   "file_extension": ".py",
   "mimetype": "text/x-python",
   "name": "python",
   "nbconvert_exporter": "python",
   "pygments_lexer": "ipython3",
   "version": "3.6.5"
  }
 },
 "nbformat": 4,
 "nbformat_minor": 2
}
