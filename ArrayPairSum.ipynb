{
 "cells": [
  {
   "cell_type": "code",
   "execution_count": 2,
   "metadata": {},
   "outputs": [],
   "source": [
    "# pair_sum([1,3,2,2], 4) should return 2 for pairs:\n",
    "# (1,3) and (2,2)\n",
    "\n",
    "def pair_sum(arr, val):\n",
    "    \n",
    "    cnt = 0\n",
    "    length = len(num_list)\n",
    "    \n",
    "    # Edge case:\n",
    "    if length < 2:\n",
    "        return\n",
    "    \n",
    "    for i in range(0, length - 1):\n",
    "        for j in range( i + 1, length):\n",
    "            if( num_list[i] + num_list[j] == val):\n",
    "                #found a pair\n",
    "                cnt += 1\n",
    "                print (f\"pair: ({num_list[i]}, {num_list[j]})\")\n",
    "    return cnt\n",
    "                "
   ]
  },
  {
   "cell_type": "code",
   "execution_count": 3,
   "metadata": {},
   "outputs": [
    {
     "name": "stdout",
     "output_type": "stream",
     "text": [
      "pair: (1, 3)\n",
      "pair: (2, 2)\n"
     ]
    },
    {
     "data": {
      "text/plain": [
       "2"
      ]
     },
     "execution_count": 3,
     "metadata": {},
     "output_type": "execute_result"
    }
   ],
   "source": [
    "pair_sum([1,3,2,2], 4)"
   ]
  },
  {
   "cell_type": "code",
   "execution_count": 5,
   "metadata": {},
   "outputs": [
    {
     "name": "stdout",
     "output_type": "stream",
     "text": [
      "pair: (1, 9)\n",
      "pair: (2, 8)\n",
      "pair: (3, 7)\n",
      "pair: (4, 6)\n",
      "pair: (5, 5)\n",
      "pair: (11, -1)\n"
     ]
    },
    {
     "data": {
      "text/plain": [
       "6"
      ]
     },
     "execution_count": 5,
     "metadata": {},
     "output_type": "execute_result"
    }
   ],
   "source": [
    "pair_sum([1,9,2,8,3,7,4,6,5,5,13,14,11,13,-1],10)\n",
    "# should find 6 pairs"
   ]
  },
  {
   "cell_type": "code",
   "execution_count": 33,
   "metadata": {},
   "outputs": [],
   "source": [
    "# Better solution: O(n)\n",
    "\n",
    "def pair_sum2(arr, val):\n",
    "    \n",
    "    if len(arr) < 2:\n",
    "        return 0\n",
    "    \n",
    "    # Sets for target\n",
    "    seen = set()\n",
    "    output = set()\n",
    "    \n",
    "    for num in arr:\n",
    "        target = val - num\n",
    "        \n",
    "        # print( f\"val: {val} num: {num}, target: {target}\")\n",
    "        \n",
    "        if target not in seen:\n",
    "            # print( f\"{num} added to seen\" )\n",
    "            seen.add(num)\n",
    "        else:\n",
    "            # print( \"{target} found in seen\" )\n",
    "            output.add( (min(num, target), max(num, target)) )\n",
    "            \n",
    "    print( \"\\n\".join(map(str,list(output))))\n",
    "        \n",
    "    return len(output)\n"
   ]
  },
  {
   "cell_type": "code",
   "execution_count": 34,
   "metadata": {},
   "outputs": [
    {
     "name": "stdout",
     "output_type": "stream",
     "text": [
      "(4, 6)\n",
      "(5, 5)\n",
      "(2, 8)\n",
      "(-1, 11)\n",
      "(1, 9)\n",
      "(3, 7)\n"
     ]
    },
    {
     "data": {
      "text/plain": [
       "6"
      ]
     },
     "execution_count": 34,
     "metadata": {},
     "output_type": "execute_result"
    }
   ],
   "source": [
    "pair_sum2([1,9,2,8,3,7,4,6,5,5,13,14,11,13,-1],10)\n",
    "# should find 6 pairs"
   ]
  },
  {
   "cell_type": "code",
   "execution_count": null,
   "metadata": {},
   "outputs": [],
   "source": []
  }
 ],
 "metadata": {
  "kernelspec": {
   "display_name": "Python 3",
   "language": "python",
   "name": "python3"
  },
  "language_info": {
   "codemirror_mode": {
    "name": "ipython",
    "version": 3
   },
   "file_extension": ".py",
   "mimetype": "text/x-python",
   "name": "python",
   "nbconvert_exporter": "python",
   "pygments_lexer": "ipython3",
   "version": "3.6.8"
  }
 },
 "nbformat": 4,
 "nbformat_minor": 2
}
